{
 "cells": [
  {
   "cell_type": "code",
   "execution_count": null,
   "metadata": {},
   "outputs": [],
   "source": [
    "apple = ?\n",
    "apple<9\n",
    "apple>7\n",
    "apple==6\n",
    "apple!=6\n",
    "True False"
   ]
  },
  {
   "cell_type": "code",
   "execution_count": 1,
   "metadata": {},
   "outputs": [
    {
     "name": "stdout",
     "output_type": "stream",
     "text": [
      " 2+2 = ? 5\n",
      "Ответ не верный, попытайтесь вновь: 1\n",
      "Ответ не верный, попытайтесь вновь: 2\n",
      "Ответ не верный, попытайтесь вновь: 4\n",
      "Молодец!\n"
     ]
    }
   ],
   "source": [
    "answer = input(\"2+2 = ? \")\n",
    "while answer != \"4\":\n",
    "    answer = input(\"Ответ не верный, попытайтесь вновь: \")\n",
    "print(\"Молодец!\")\n",
    "answer = input(\"4 + 4 = ?\")\n",
    "while answer != \"8\":\n",
    "    answer = input(\"Ответ не верный, попытайтесь вновь: \")\n",
    "print(\"Молодец!\")"
   ]
  },
  {
   "cell_type": "code",
   "execution_count": 10,
   "metadata": {},
   "outputs": [
    {
     "name": "stdout",
     "output_type": "stream",
     "text": [
      "Попытка №  1\n",
      "Какая погода за окном? 1\n",
      "\n",
      "Попытка №  2\n",
      "Погода явно другая. Подумай ещё: 1\n",
      "\n",
      "Попытка №  3\n",
      "Погода явно другая. Подумай ещё: 1\n",
      "\n",
      "Попытка №  4\n",
      "Погода явно другая. Подумай ещё: 1\n",
      "\n",
      "Попытка №  5\n",
      "Погода явно другая. Подумай ещё: 1\n",
      "\n",
      "Лимит попыток исчерпан\n"
     ]
    }
   ],
   "source": [
    "k = 1\n",
    "print(\"Попытка № \", k)\n",
    "answer = input(\"Какая погода за окном? \")\n",
    "while answer != \"солнечная\":\n",
    "    print()\n",
    "    k += 1 # k = k + 1\n",
    "    if k > 5:\n",
    "        print(\"Лимит попыток исчерпан\")\n",
    "        break\n",
    "    print(\"Попытка № \", k)\n",
    "    answer = input(\"Погода явно другая. Подумай ещё: \")\n",
    "\n",
    "if k < 6:\n",
    "    print(\"Молодец!\")"
   ]
  },
  {
   "cell_type": "code",
   "execution_count": 4,
   "metadata": {},
   "outputs": [
    {
     "name": "stdout",
     "output_type": "stream",
     "text": [
      "2 + 2 = ?5\n",
      " 5\n",
      "Молодец, ты справился с 2 попытки\n"
     ]
    }
   ],
   "source": [
    "k = 1\n",
    "answer = input(\"2 + 2 = ? \")\n",
    "while answer != \"4\":\n",
    "    k+=1\n",
    "    answer = input(\" \")\n",
    "    break\n",
    "print(\"Молодец, ты справился с\", k, \"попытки\")"
   ]
  }
 ],
 "metadata": {
  "kernelspec": {
   "display_name": "Python 3",
   "language": "python",
   "name": "python3"
  },
  "language_info": {
   "codemirror_mode": {
    "name": "ipython",
    "version": 3
   },
   "file_extension": ".py",
   "mimetype": "text/x-python",
   "name": "python",
   "nbconvert_exporter": "python",
   "pygments_lexer": "ipython3",
   "version": "3.8.5"
  }
 },
 "nbformat": 4,
 "nbformat_minor": 4
}
